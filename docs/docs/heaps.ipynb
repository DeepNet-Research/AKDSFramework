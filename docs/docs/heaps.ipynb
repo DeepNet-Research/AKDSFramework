{
 "cells": [
  {
   "cell_type": "markdown",
   "metadata": {},
   "source": [
    "# Heaps\n",
    "Building heap was never been this easy. Follow these steps\n",
    "- First make a heap by importing Heap from AKDSFramework."
   ]
  },
  {
   "cell_type": "code",
   "execution_count": 1,
   "metadata": {},
   "outputs": [],
   "source": [
    "from AKDSFramework.structure import MaxHeap, MinHeap"
   ]
  },
  {
   "cell_type": "markdown",
   "metadata": {},
   "source": [
    "Now let's build a max heap with 15 random values."
   ]
  },
  {
   "cell_type": "code",
   "execution_count": 2,
   "metadata": {},
   "outputs": [],
   "source": [
    "mxheap = MaxHeap([data**2 for data in range(15)])"
   ]
  },
  {
   "cell_type": "markdown",
   "metadata": {},
   "source": [
    "Now it's important to call the build method on the heap to build the heap from an unstructed array of numbers. If the build is not done printing and doing operations on heap will not be valid and will generate HeapNotBuildError. So always build your heap with `.heap()` method if you caused any change in the heap structure. Each time calling `.build()` method will use `O(logN)` time."
   ]
  },
  {
   "cell_type": "code",
   "execution_count": 3,
   "metadata": {},
   "outputs": [],
   "source": [
    "mxheap.build()\n",
    "# Now add few elements to the heap\n",
    "mxheap.add(12)\n",
    "mxheap.add(4)\n",
    "# As the heap structure is changed so we have to call .build() again\n",
    "mxheap.build()"
   ]
  },
  {
   "cell_type": "code",
   "execution_count": 4,
   "metadata": {},
   "outputs": [
    {
     "name": "stdout",
     "output_type": "stream",
     "text": [
      "[196, 100, 169, 64, 81, 144, 36, 49, 9, 1, 16, 121, 25, 4, 0, 12, 4]\n"
     ]
    }
   ],
   "source": [
    "print(mxheap)"
   ]
  },
  {
   "cell_type": "markdown",
   "metadata": {},
   "source": [
    "This will return `[2744, 1331, 2197, 729, 1000, 1728, 343, 512, 64, 8, 125, 1, 216, 27, 12, 4]` and you also have the ability to see the heap printed prettyly by using prettyprint() method."
   ]
  },
  {
   "cell_type": "code",
   "execution_count": 5,
   "metadata": {},
   "outputs": [
    {
     "data": {
      "text/html": [
       "<pre style=\"white-space:pre;overflow-x:auto;line-height:normal;font-family:Menlo,'DejaVu Sans Mono',consolas,'Courier New',monospace\"><span style=\"font-style: italic\">             Heap structure              </span>\n",
       "┏━━━━━━━━━━━━┳━━━━━━━━━━━━┳━━━━━━━━━━━━━┓\n",
       "┃<span style=\"font-weight: bold\"> Node Value </span>┃<span style=\"font-weight: bold\"> left child </span>┃<span style=\"font-weight: bold\"> right child </span>┃\n",
       "┡━━━━━━━━━━━━╇━━━━━━━━━━━━╇━━━━━━━━━━━━━┩\n",
       "│<span style=\"color: #800000; text-decoration-color: #800000\"> 196        </span>│<span style=\"color: #800080; text-decoration-color: #800080\">        100 </span>│<span style=\"color: #800080; text-decoration-color: #800080\">         169 </span>│\n",
       "│<span style=\"color: #800000; text-decoration-color: #800000\"> 100        </span>│<span style=\"color: #800080; text-decoration-color: #800080\">         64 </span>│<span style=\"color: #800080; text-decoration-color: #800080\">          81 </span>│\n",
       "│<span style=\"color: #800000; text-decoration-color: #800000\"> 169        </span>│<span style=\"color: #800080; text-decoration-color: #800080\">        144 </span>│<span style=\"color: #800080; text-decoration-color: #800080\">          36 </span>│\n",
       "│<span style=\"color: #800000; text-decoration-color: #800000\"> 64         </span>│<span style=\"color: #800080; text-decoration-color: #800080\">         49 </span>│<span style=\"color: #800080; text-decoration-color: #800080\">           9 </span>│\n",
       "│<span style=\"color: #800000; text-decoration-color: #800000\"> 81         </span>│<span style=\"color: #800080; text-decoration-color: #800080\">          1 </span>│<span style=\"color: #800080; text-decoration-color: #800080\">          16 </span>│\n",
       "│<span style=\"color: #800000; text-decoration-color: #800000\"> 144        </span>│<span style=\"color: #800080; text-decoration-color: #800080\">        121 </span>│<span style=\"color: #800080; text-decoration-color: #800080\">          25 </span>│\n",
       "│<span style=\"color: #800000; text-decoration-color: #800000\"> 36         </span>│<span style=\"color: #800080; text-decoration-color: #800080\">          4 </span>│<span style=\"color: #800080; text-decoration-color: #800080\">           0 </span>│\n",
       "│<span style=\"color: #800000; text-decoration-color: #800000\"> 49         </span>│<span style=\"color: #800080; text-decoration-color: #800080\">         12 </span>│<span style=\"color: #800080; text-decoration-color: #800080\">           4 </span>│\n",
       "└────────────┴────────────┴─────────────┘\n",
       "</pre>\n"
      ],
      "text/plain": [
       "<rich.jupyter.JupyterRenderable at 0x116882f10>"
      ]
     },
     "metadata": {},
     "output_type": "display_data"
    }
   ],
   "source": [
    "mxheap.prettyprint()"
   ]
  }
 ],
 "metadata": {
  "kernelspec": {
   "display_name": "Python 3",
   "language": "python",
   "name": "python3"
  },
  "language_info": {
   "codemirror_mode": {
    "name": "ipython",
    "version": 3
   },
   "file_extension": ".py",
   "mimetype": "text/x-python",
   "name": "python",
   "nbconvert_exporter": "python",
   "pygments_lexer": "ipython3",
   "version": "3.9.2"
  }
 },
 "nbformat": 4,
 "nbformat_minor": 4
}
