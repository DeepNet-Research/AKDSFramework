{
 "cells": [
  {
   "cell_type": "markdown",
   "id": "uniform-distance",
   "metadata": {},
   "source": [
    "# Dictionary\n",
    "(Also called Hash Table)\n",
    "First we import the dictionary from the AKDSFramework structure module."
   ]
  },
  {
   "cell_type": "code",
   "execution_count": 1,
   "id": "cooperative-occupation",
   "metadata": {},
   "outputs": [],
   "source": [
    "from AKDSFramework.structure.dictionary import Hash"
   ]
  },
  {
   "cell_type": "markdown",
   "id": "powerful-covering",
   "metadata": {},
   "source": [
    "Now create a new hash object"
   ]
  },
  {
   "cell_type": "code",
   "execution_count": 2,
   "id": "finite-lawyer",
   "metadata": {},
   "outputs": [],
   "source": [
    "hashtable = Hash()"
   ]
  },
  {
   "cell_type": "markdown",
   "id": "exceptional-cassette",
   "metadata": {},
   "source": [
    "By default the hashtable will create a bucket worth for 60 values. Once it overflows the hashtable will dynamically allocate more bucket spaces for new elements.\n",
    "\n",
    "Now to include new elements we mention a key value pair in the hashtable's `include` method."
   ]
  },
  {
   "cell_type": "code",
   "execution_count": 3,
   "id": "amateur-marketing",
   "metadata": {},
   "outputs": [],
   "source": [
    "hashtable.include(\n",
    "    key=\"hello\",\n",
    "    value=23\n",
    ")\n",
    "\n",
    "hashtable.include(\n",
    "    key=\"22\",\n",
    "    value=1314\n",
    ")\n",
    "\n",
    "hashtable.include(\n",
    "    key=\"4\",\n",
    "    value=\"Hello, Mom\"\n",
    ")"
   ]
  },
  {
   "cell_type": "markdown",
   "id": "liable-piano",
   "metadata": {},
   "source": [
    "Now Let's print the buckets. I'll provide a __str__ method soon to see the hashtable easily."
   ]
  },
  {
   "cell_type": "code",
   "execution_count": 4,
   "id": "swedish-affiliation",
   "metadata": {},
   "outputs": [
    {
     "name": "stdout",
     "output_type": "stream",
     "text": [
      "[None, <Node: (4, Hello, Mom, Next: None)>, None, None, None, None, None, None, None, None, None, None, None, <Node: (22, 1314, Next: None)>, None, None, None, None, None, None, None, None, None, None, None, None, None, <Node: (hello, 23, Next: None)>, None, None, None, None, None, None, None, None, None, None, None, None, None, None, None, None, None, None, None, None, None, None, None, None, None, None, None, None, None, None, None, None]\n"
     ]
    }
   ],
   "source": [
    "print(hashtable.buckets)"
   ]
  },
  {
   "cell_type": "markdown",
   "id": "different-patrick",
   "metadata": {},
   "source": [
    "## Searching\n",
    "Hashtables provide a constant time $O(1)$ time searching for any key. Just use the following default function to find any value corrosponding to a key."
   ]
  },
  {
   "cell_type": "code",
   "execution_count": 5,
   "id": "pointed-liquid",
   "metadata": {},
   "outputs": [
    {
     "data": {
      "text/plain": [
       "'Hello, Mom'"
      ]
     },
     "execution_count": 5,
     "metadata": {},
     "output_type": "execute_result"
    }
   ],
   "source": [
    "hashtable.searchFor(key=\"4\")"
   ]
  },
  {
   "cell_type": "markdown",
   "id": "continued-paradise",
   "metadata": {},
   "source": [
    "## Deleting\n",
    "You can also remove any key value pair from the hashtable buckets like this"
   ]
  },
  {
   "cell_type": "code",
   "execution_count": 6,
   "id": "cordless-anthropology",
   "metadata": {},
   "outputs": [
    {
     "data": {
      "text/plain": [
       "1314"
      ]
     },
     "execution_count": 6,
     "metadata": {},
     "output_type": "execute_result"
    }
   ],
   "source": [
    "hashtable.removeFor(key=\"22\")"
   ]
  },
  {
   "cell_type": "code",
   "execution_count": 7,
   "id": "handmade-singles",
   "metadata": {},
   "outputs": [
    {
     "name": "stdout",
     "output_type": "stream",
     "text": [
      "[None, <Node: (4, Hello, Mom, Next: None)>, None, None, None, None, None, None, None, None, None, None, None, None, None, None, None, None, None, None, None, None, None, None, None, None, None, <Node: (hello, 23, Next: None)>, None, None, None, None, None, None, None, None, None, None, None, None, None, None, None, None, None, None, None, None, None, None, None, None, None, None, None, None, None, None, None, None]\n"
     ]
    }
   ],
   "source": [
    "print(hashtable.buckets)"
   ]
  }
 ],
 "metadata": {
  "kernelspec": {
   "display_name": "Python 3",
   "language": "python",
   "name": "python3"
  },
  "language_info": {
   "codemirror_mode": {
    "name": "ipython",
    "version": 3
   },
   "file_extension": ".py",
   "mimetype": "text/x-python",
   "name": "python",
   "nbconvert_exporter": "python",
   "pygments_lexer": "ipython3",
   "version": "3.9.2"
  }
 },
 "nbformat": 4,
 "nbformat_minor": 5
}
