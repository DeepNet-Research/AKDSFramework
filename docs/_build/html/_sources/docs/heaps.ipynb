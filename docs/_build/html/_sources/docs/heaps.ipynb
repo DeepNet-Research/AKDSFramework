{
 "metadata": {
  "language_info": {
   "codemirror_mode": {
    "name": "ipython",
    "version": 3
   },
   "file_extension": ".py",
   "mimetype": "text/x-python",
   "name": "python",
   "nbconvert_exporter": "python",
   "pygments_lexer": "ipython3",
   "version": "3.8.5-final"
  },
  "orig_nbformat": 2,
  "kernelspec": {
   "name": "python3",
   "display_name": "Python 3",
   "language": "python"
  }
 },
 "nbformat": 4,
 "nbformat_minor": 2,
 "cells": [
  {
   "source": [
    "# Heaps\n",
    "Building heap was never been this easy. Follow these steps\n",
    "- First make a heap by importing Heap from AKDSFramework."
   ],
   "cell_type": "markdown",
   "metadata": {}
  },
  {
   "cell_type": "code",
   "execution_count": 1,
   "metadata": {},
   "outputs": [],
   "source": [
    "from AKDSFramework.structure import MaxHeap, MinHeap"
   ]
  },
  {
   "source": [
    "Now let's build a max heap with 15 random values."
   ],
   "cell_type": "markdown",
   "metadata": {}
  },
  {
   "cell_type": "code",
   "execution_count": 2,
   "metadata": {},
   "outputs": [],
   "source": [
    "mxheap = MaxHeap([data**2 for data in range(15)])"
   ]
  },
  {
   "source": [
    "Now it's important to call the build method on the heap to build the heap from an unstructed array of numbers. If the build is not done printing and doing operations on heap will not be valid and will generate HeapNotBuildError. So always build your heap with `.heap()` method if you caused any change in the heap structure. Each time calling `.build()` method will use `O(logN)` time."
   ],
   "cell_type": "markdown",
   "metadata": {}
  },
  {
   "cell_type": "code",
   "execution_count": 3,
   "metadata": {},
   "outputs": [],
   "source": [
    "mxheap.build()\n",
    "# Now add few elements to the heap\n",
    "mxheap.add(12)\n",
    "mxheap.add(4)\n",
    "# As the heap structure is changed so we have to call .build() again\n",
    "mxheap.build()"
   ]
  },
  {
   "cell_type": "code",
   "execution_count": 4,
   "metadata": {},
   "outputs": [
    {
     "output_type": "stream",
     "name": "stdout",
     "text": [
      "[196, 100, 169, 64, 81, 144, 36, 49, 9, 1, 16, 121, 25, 4, 0, 12, 4]\n"
     ]
    }
   ],
   "source": [
    "print(mxheap)"
   ]
  },
  {
   "source": [
    "This will return `[2744, 1331, 2197, 729, 1000, 1728, 343, 512, 64, 8, 125, 1, 216, 27, 12, 4]` and you also have the ability to see the heap printed prettyly by using prettyprint() method."
   ],
   "cell_type": "markdown",
   "metadata": {}
  },
  {
   "cell_type": "code",
   "execution_count": 5,
   "metadata": {},
   "outputs": [
    {
     "output_type": "stream",
     "name": "stdout",
     "text": [
      "+-----------------+------------+-------------+\n| Head Node Value | left child | right child |\n+-----------------+------------+-------------+\n| 196             | 100        | 169         |\n| 100             | 64         | 81          |\n| 169             | 144        | 36          |\n| 64              | 49         | 9           |\n| 81              | 1          | 16          |\n| 144             | 121        | 25          |\n| 36              | 4          | 0           |\n| 49              | 12         | 4           |\n+-----------------+------------+-------------+\n"
     ]
    }
   ],
   "source": [
    "mxheap.prettyprint()"
   ]
  }
 ]
}